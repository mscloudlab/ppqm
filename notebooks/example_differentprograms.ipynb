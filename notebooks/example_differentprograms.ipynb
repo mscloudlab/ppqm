{
 "cells": [
  {
   "cell_type": "markdown",
   "id": "201cb82a-64b7-499b-a2ac-a3654bbd216c",
   "metadata": {
    "pycharm": {
     "name": "#%% md\n"
    }
   },
   "source": [
    "## Interface to different programs\n",
    "\n",
    "PPQM has interfaces to different QM programs, making it easy to calculate properties with different programs on the same RDKit molobj\n",
    "\n"
   ]
  },
  {
   "cell_type": "code",
   "execution_count": 17,
   "id": "experimental-wings",
   "metadata": {
    "pycharm": {
     "name": "#%%\n"
    }
   },
   "outputs": [
    {
     "name": "stdout",
     "output_type": "stream",
     "text": [
      "The autoreload extension is already loaded. To reload it, use:\n",
      "  %reload_ext autoreload\n"
     ]
    }
   ],
   "source": [
    "%load_ext autoreload\n",
    "%autoreload 2\n",
    "%matplotlib inline"
   ]
  },
  {
   "cell_type": "code",
   "execution_count": 3,
   "id": "transparent-rebel",
   "metadata": {
    "pycharm": {
     "name": "#%%\n"
    }
   },
   "outputs": [],
   "source": [
    "import logging\n",
    "import sys"
   ]
  },
  {
   "cell_type": "code",
   "execution_count": 4,
   "id": "instant-executive",
   "metadata": {
    "pycharm": {
     "name": "#%%\n"
    }
   },
   "outputs": [],
   "source": [
    "import pandas as pd\n",
    "from rdkit import Chem\n",
    "from rdkit.Chem.Draw import MolsToGridImage"
   ]
  },
  {
   "cell_type": "code",
   "execution_count": 5,
   "id": "seeing-heavy",
   "metadata": {
    "pycharm": {
     "name": "#%%\n"
    }
   },
   "outputs": [],
   "source": [
    "try:\n",
    "    import ppqm\n",
    "except ModuleNotFoundError:\n",
    "    import pathlib\n",
    "\n",
    "    cwd = pathlib.Path().resolve().parent\n",
    "    sys.path.append(str(cwd))\n",
    "    import ppqm"
   ]
  },
  {
   "cell_type": "markdown",
   "id": "fiscal-marketplace",
   "metadata": {
    "pycharm": {
     "name": "#%% md\n"
    }
   },
   "source": [
    "## Set logging level"
   ]
  },
  {
   "cell_type": "code",
   "execution_count": 6,
   "id": "hungarian-tower",
   "metadata": {
    "pycharm": {
     "name": "#%%\n"
    }
   },
   "outputs": [],
   "source": [
    "logging.basicConfig(stream=sys.stdout, level=logging.INFO)\n",
    "logging.getLogger(\"ppqm\").setLevel(logging.INFO)\n",
    "\n",
    "logging.getLogger(\"xtb\").setLevel(logging.DEBUG)\n",
    "logging.getLogger(\"gamess\").setLevel(logging.DEBUG)\n",
    "logging.getLogger(\"mopac\").setLevel(logging.DEBUG)\n",
    "\n",
    "show_progress = False"
   ]
  },
  {
   "cell_type": "markdown",
   "id": "alternative-azerbaijan",
   "metadata": {
    "pycharm": {
     "name": "#%% md\n"
    }
   },
   "source": [
    "## Define a molecule you like"
   ]
  },
  {
   "cell_type": "code",
   "execution_count": 7,
   "id": "bored-framing",
   "metadata": {
    "pycharm": {
     "name": "#%%\n"
    }
   },
   "outputs": [],
   "source": [
    "smiles = \"NCC(=O)N[C@H]1CO[C@@H](c2ccc([N+](=O)[O-])cc2)OC1\"  # CHEMBL260511\n",
    "molobj = Chem.MolFromSmiles(smiles)"
   ]
  },
  {
   "cell_type": "code",
   "execution_count": 8,
   "id": "unexpected-checkout",
   "metadata": {
    "pycharm": {
     "name": "#%%\n"
    }
   },
   "outputs": [
    {
     "data": {
      "image/png": "[encoded data removed]",
      "text/plain": [
       "<rdkit.Chem.rdchem.Mol at 0x7ff625a17dc0>"
      ]
     },
     "execution_count": 8,
     "metadata": {},
     "output_type": "execute_result"
    }
   ],
   "source": [
    "molobj"
   ]
  },
  {
   "cell_type": "markdown",
   "id": "green-california",
   "metadata": {
    "pycharm": {
     "name": "#%% md\n"
    }
   },
   "source": [
    "## Get some 3D conformers (RDKit)"
   ]
  },
  {
   "cell_type": "code",
   "execution_count": 9,
   "id": "european-ordering",
   "metadata": {
    "pycharm": {
     "name": "#%%\n"
    }
   },
   "outputs": [],
   "source": [
    "molobj = ppqm.tasks.generate_conformers(molobj)"
   ]
  },
  {
   "cell_type": "code",
   "execution_count": 10,
   "id": "vietnamese-panel",
   "metadata": {
    "pycharm": {
     "name": "#%%\n"
    }
   },
   "outputs": [
    {
     "data": {
      "text/plain": [
       "13"
      ]
     },
     "execution_count": 10,
     "metadata": {},
     "output_type": "execute_result"
    }
   ],
   "source": [
    "molobj.GetNumConformers()"
   ]
  },
  {
   "cell_type": "code",
   "execution_count": 20,
   "id": "sunset-essence",
   "metadata": {
    "pycharm": {
     "name": "#%%\n"
    }
   },
   "outputs": [],
   "source": [
    "# Define different programs\n",
    "\n",
    "calculator_options = {\"scr\": \"_tmp_directory_\", \"n_cores\": 2, \"show_progress\": show_progress}\n",
    "\n",
    "mopac = ppqm.MopacCalculator(\n",
    "    cmd=\"mopac\",\n",
    "    **calculator_options\n",
    ")\n",
    "gamess = ppqm.GamessCalculator(\n",
    "    cmd=\"rungms\",\n",
    "    gamess_userscr=\"~/scratch/gamess/restart\",\n",
    "    gamess_scr=\"~/scratch/gamess/restart\",\n",
    "    **calculator_options\n",
    ")\n",
    "xtb = ppqm.XtbCalculator(\n",
    "    cmd=\"xtb\",\n",
    "    **calculator_options\n",
    ")"
   ]
  },
  {
   "cell_type": "markdown",
   "id": "69504e1f",
   "metadata": {
    "pycharm": {
     "name": "#%% md\n"
    }
   },
   "source": [
    "## Different programs, requires different settings"
   ]
  },
  {
   "cell_type": "code",
   "execution_count": 21,
   "id": "boring-minutes",
   "metadata": {
    "pycharm": {
     "name": "#%%\n"
    }
   },
   "outputs": [
    {
     "data": {
      "text/plain": [
       "MopacCalc(scr=_tmp_directory_, cmd=mopac)"
      ]
     },
     "execution_count": 21,
     "metadata": {},
     "output_type": "execute_result"
    }
   ],
   "source": [
    "mopac"
   ]
  },
  {
   "cell_type": "code",
   "execution_count": 22,
   "id": "flying-family",
   "metadata": {
    "pycharm": {
     "name": "#%%\n"
    }
   },
   "outputs": [
    {
     "data": {
      "text/plain": [
       "XtbCalc(cmd=xtb,scr=_tmp_directory_,n_cores=2)"
      ]
     },
     "execution_count": 22,
     "metadata": {},
     "output_type": "execute_result"
    }
   ],
   "source": [
    "xtb"
   ]
  },
  {
   "cell_type": "code",
   "execution_count": 23,
   "id": "proof-palmer",
   "metadata": {
    "pycharm": {
     "name": "#%%\n"
    }
   },
   "outputs": [
    {
     "data": {
      "text/plain": [
       "GamessCalc(cmd=rungms,scr=_tmp_directory_)"
      ]
     },
     "execution_count": 23,
     "metadata": {},
     "output_type": "execute_result"
    }
   ],
   "source": [
    "gamess"
   ]
  },
  {
   "cell_type": "markdown",
   "id": "italic-royalty",
   "metadata": {
    "pycharm": {
     "name": "#%% md\n"
    }
   },
   "source": [
    "## Different input and different output"
   ]
  },
  {
   "cell_type": "code",
   "execution_count": null,
   "id": "diagnostic-scope",
   "metadata": {
    "pycharm": {
     "name": "#%%\n"
    },
    "scrolled": true
   },
   "outputs": [],
   "source": [
    "%%time\n",
    "mopac_options = {\n",
    "    \"pm3\": None,\n",
    "    \"precise\": None,\n",
    "    \"mullik\": None,\n",
    "    \"eps\": 78.4,\n",
    "}\n",
    "\n",
    "results_mopac = mopac.calculate(molobj, mopac_options)"
   ]
  },
  {
   "cell_type": "code",
   "execution_count": null,
   "id": "7daafd94",
   "metadata": {
    "pycharm": {
     "name": "#%%\n"
    }
   },
   "outputs": [],
   "source": [
    "%%time\n",
    "xtb_options = {\n",
    "    \"gfn\": 1,\n",
    "    \"alpb\": \"water\",\n",
    "    \"opt\": None,\n",
    "}\n",
    "\n",
    "results_xtb = xtb.calculate(molobj, xtb_options)"
   ]
  },
  {
   "cell_type": "code",
   "execution_count": 24,
   "id": "93ea1653",
   "metadata": {
    "pycharm": {
     "name": "#%%\n"
    }
   },
   "outputs": [
    {
     "name": "stdout",
     "output_type": "stream",
     "text": [
      "DEBUG:gamess:removing ~/scratch/gamess/restart _tmp_gamess.inp\n",
      "DEBUG:gamess:_tmp_directory_ rungms _tmp_gamess.inp\n",
      "DEBUG:gamess:removing ~/scratch/gamess/restart _tmp_gamess.inp\n",
      "DEBUG:gamess:parseing optimize SQM solvation=True\n",
      "DEBUG:gamess:removing ~/scratch/gamess/restart _tmp_gamess.inp\n",
      "DEBUG:gamess:_tmp_directory_ rungms _tmp_gamess.inp\n",
      "DEBUG:gamess:removing ~/scratch/gamess/restart _tmp_gamess.inp\n",
      "DEBUG:gamess:parseing optimize SQM solvation=True\n",
      "DEBUG:gamess:removing ~/scratch/gamess/restart _tmp_gamess.inp\n",
      "DEBUG:gamess:_tmp_directory_ rungms _tmp_gamess.inp\n",
      "DEBUG:gamess:removing ~/scratch/gamess/restart _tmp_gamess.inp\n",
      "DEBUG:gamess:parseing optimize SQM solvation=True\n",
      "DEBUG:gamess:removing ~/scratch/gamess/restart _tmp_gamess.inp\n",
      "DEBUG:gamess:_tmp_directory_ rungms _tmp_gamess.inp\n",
      "DEBUG:gamess:removing ~/scratch/gamess/restart _tmp_gamess.inp\n",
      "DEBUG:gamess:parseing optimize SQM solvation=True\n",
      "DEBUG:gamess:removing ~/scratch/gamess/restart _tmp_gamess.inp\n",
      "DEBUG:gamess:_tmp_directory_ rungms _tmp_gamess.inp\n",
      "DEBUG:gamess:removing ~/scratch/gamess/restart _tmp_gamess.inp\n",
      "DEBUG:gamess:parseing optimize SQM solvation=True\n",
      "DEBUG:gamess:removing ~/scratch/gamess/restart _tmp_gamess.inp\n",
      "DEBUG:gamess:_tmp_directory_ rungms _tmp_gamess.inp\n",
      "DEBUG:gamess:removing ~/scratch/gamess/restart _tmp_gamess.inp\n",
      "DEBUG:gamess:parseing optimize SQM solvation=True\n",
      "DEBUG:gamess:removing ~/scratch/gamess/restart _tmp_gamess.inp\n",
      "DEBUG:gamess:_tmp_directory_ rungms _tmp_gamess.inp\n",
      "DEBUG:gamess:removing ~/scratch/gamess/restart _tmp_gamess.inp\n",
      "DEBUG:gamess:parseing optimize SQM solvation=True\n",
      "DEBUG:gamess:removing ~/scratch/gamess/restart _tmp_gamess.inp\n",
      "DEBUG:gamess:_tmp_directory_ rungms _tmp_gamess.inp\n",
      "DEBUG:gamess:removing ~/scratch/gamess/restart _tmp_gamess.inp\n",
      "DEBUG:gamess:parseing optimize SQM solvation=True\n",
      "DEBUG:gamess:removing ~/scratch/gamess/restart _tmp_gamess.inp\n",
      "DEBUG:gamess:_tmp_directory_ rungms _tmp_gamess.inp\n",
      "DEBUG:gamess:removing ~/scratch/gamess/restart _tmp_gamess.inp\n",
      "DEBUG:gamess:parseing optimize SQM solvation=True\n",
      "DEBUG:gamess:removing ~/scratch/gamess/restart _tmp_gamess.inp\n",
      "DEBUG:gamess:_tmp_directory_ rungms _tmp_gamess.inp\n",
      "DEBUG:gamess:removing ~/scratch/gamess/restart _tmp_gamess.inp\n",
      "DEBUG:gamess:parseing optimize SQM solvation=True\n",
      "DEBUG:gamess:removing ~/scratch/gamess/restart _tmp_gamess.inp\n",
      "DEBUG:gamess:_tmp_directory_ rungms _tmp_gamess.inp\n",
      "DEBUG:gamess:removing ~/scratch/gamess/restart _tmp_gamess.inp\n",
      "DEBUG:gamess:parseing optimize SQM solvation=True\n",
      "DEBUG:gamess:removing ~/scratch/gamess/restart _tmp_gamess.inp\n",
      "DEBUG:gamess:_tmp_directory_ rungms _tmp_gamess.inp\n",
      "DEBUG:gamess:removing ~/scratch/gamess/restart _tmp_gamess.inp\n",
      "DEBUG:gamess:parseing optimize SQM solvation=True\n",
      "DEBUG:gamess:removing ~/scratch/gamess/restart _tmp_gamess.inp\n",
      "DEBUG:gamess:_tmp_directory_ rungms _tmp_gamess.inp\n",
      "DEBUG:gamess:removing ~/scratch/gamess/restart _tmp_gamess.inp\n",
      "DEBUG:gamess:parseing optimize SQM solvation=True\n",
      "CPU times: user 3.87 s, sys: 1.83 s, total: 5.7 s\n",
      "Wall time: 8min 56s\n"
     ]
    }
   ],
   "source": [
    "%%time\n",
    "gamess_options = {\n",
    "    \"basis\": {\"gbasis\": \"pm3\"},\n",
    "    \"contrl\": {\"runtyp\": \"optimize\"},\n",
    "    \"statpt\": {\"opttol\": 0.0005, \"nstep\": 300, \"projct\": False},\n",
    "    \"system\": {\"mwords\": 125},\n",
    "    \"pcm\": {\n",
    "        \"solvnt\": \"water\",\n",
    "        \"mxts\": 15000,\n",
    "        \"icav\": 1,\n",
    "        \"idisp\": 1,\n",
    "    },\n",
    "    \"tescav\": {\"mthall\": 4, \"ntsall\": 60},\n",
    "}\n",
    "\n",
    "results_gamess = gamess.calculate(molobj, gamess_options)"
   ]
  },
  {
   "cell_type": "markdown",
   "id": "sunset-treatment",
   "metadata": {
    "pycharm": {
     "name": "#%% md\n"
    }
   },
   "source": [
    "## Results"
   ]
  },
  {
   "cell_type": "code",
   "execution_count": null,
   "id": "closed-entrepreneur",
   "metadata": {
    "pycharm": {
     "name": "#%%\n"
    }
   },
   "outputs": [],
   "source": [
    "df_gamess = pd.DataFrame(results_gamess)"
   ]
  },
  {
   "cell_type": "code",
   "execution_count": null,
   "id": "italian-domestic",
   "metadata": {
    "pycharm": {
     "name": "#%%\n"
    }
   },
   "outputs": [],
   "source": [
    "df_mopac = pd.DataFrame(results_mopac)"
   ]
  },
  {
   "cell_type": "code",
   "execution_count": null,
   "id": "informed-florence",
   "metadata": {
    "pycharm": {
     "name": "#%%\n"
    }
   },
   "outputs": [],
   "source": [
    "df_xtb = pd.DataFrame(results_xtb)"
   ]
  },
  {
   "cell_type": "code",
   "execution_count": null,
   "id": "irish-trunk",
   "metadata": {
    "pycharm": {
     "name": "#%%\n"
    }
   },
   "outputs": [],
   "source": [
    "df_mopac"
   ]
  },
  {
   "cell_type": "code",
   "execution_count": null,
   "id": "completed-knife",
   "metadata": {
    "pycharm": {
     "name": "#%%\n"
    }
   },
   "outputs": [],
   "source": [
    "df_xtb.head()"
   ]
  },
  {
   "cell_type": "code",
   "execution_count": null,
   "id": "minus-principle",
   "metadata": {
    "pycharm": {
     "name": "#%%\n"
    }
   },
   "outputs": [],
   "source": [
    "df_gamess"
   ]
  },
  {
   "cell_type": "markdown",
   "id": "educated-gentleman",
   "metadata": {
    "pycharm": {
     "name": "#%% md\n"
    }
   },
   "source": [
    "## TODO\n",
    "\n",
    "- properties\n",
    "- timings\n",
    "- n_steps\n",
    "- rmsd\n",
    "\n",
    "- conformer ranking\n",
    "\n"
   ]
  }
 ],
 "metadata": {
  "kernelspec": {
   "display_name": "Python 3 (ipykernel)",
   "language": "python",
   "name": "python3"
  },
  "language_info": {
   "codemirror_mode": {
    "name": "ipython",
    "version": 3
   },
   "file_extension": ".py",
   "mimetype": "text/x-python",
   "name": "python",
   "nbconvert_exporter": "python",
   "pygments_lexer": "ipython3",
   "version": "3.9.13"
  }
 },
 "nbformat": 4,
 "nbformat_minor": 5
}
