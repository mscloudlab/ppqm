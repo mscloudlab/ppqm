{
 "cells": [
  {
   "cell_type": "markdown",
   "id": "6d689750-ee7d-4a7e-b602-30c71d695342",
   "metadata": {
    "pycharm": {
     "name": "#%% md\n"
    }
   },
   "source": [
    "# Example of how to use the Orca wrapper\n"
   ]
  },
  {
   "cell_type": "code",
   "execution_count": 1,
   "id": "325db504-b421-44c7-84b4-a9f16e140170",
   "metadata": {
    "pycharm": {
     "name": "#%%\n"
    }
   },
   "outputs": [],
   "source": [
    "%load_ext autoreload\n",
    "%autoreload 2\n",
    "%matplotlib inline"
   ]
  },
  {
   "cell_type": "code",
   "execution_count": 2,
   "id": "9777df55-6093-43e0-abf6-b0e3f34a6881",
   "metadata": {
    "pycharm": {
     "name": "#%%\n"
    }
   },
   "outputs": [],
   "source": [
    "import sys\n",
    "import logging"
   ]
  },
  {
   "cell_type": "code",
   "execution_count": 3,
   "id": "a6409369-cfc7-49de-b6e2-405a0e02a082",
   "metadata": {
    "pycharm": {
     "name": "#%%\n"
    }
   },
   "outputs": [],
   "source": [
    "import matplotlib.pyplot as plt\n",
    "import numpy as np\n",
    "import pandas as pd\n",
    "from rdkit import Chem\n",
    "from rdkit.Chem import AllChem\n",
    "from rdkit.Chem.Draw import MolsToGridImage, MolToImage\n",
    "from rdkit.Chem.MolStandardize import rdMolStandardize"
   ]
  },
  {
   "cell_type": "code",
   "execution_count": 4,
   "id": "2b8278dd-17e2-4482-9513-2f1f6c84f006",
   "metadata": {
    "pycharm": {
     "name": "#%%\n"
    }
   },
   "outputs": [],
   "source": [
    "try:\n",
    "    import ppqm\n",
    "except ModuleNotFoundError:\n",
    "    import pathlib\n",
    "\n",
    "    cwd = pathlib.Path().resolve().parent\n",
    "    sys.path.append(str(cwd))\n",
    "    import ppqm"
   ]
  },
  {
   "cell_type": "code",
   "execution_count": 5,
   "id": "0e55deee-5f00-444a-a097-2082cbb25614",
   "metadata": {
    "pycharm": {
     "name": "#%%\n"
    }
   },
   "outputs": [
    {
     "data": {
      "application/vnd.jupyter.widget-view+json": {
       "model_id": "ac36840dbd8041ffb52fd2870dfc2b70",
       "version_major": 2,
       "version_minor": 0
      },
      "text/plain": []
     },
     "metadata": {},
     "output_type": "display_data"
    }
   ],
   "source": [
    "from ppqm import orca\n",
    "from ppqm import jupyter as ppqm_jupyter"
   ]
  },
  {
   "cell_type": "markdown",
   "id": "122978f4-e70b-4ada-9a02-c07e696733e3",
   "metadata": {
    "pycharm": {
     "name": "#%% md\n"
    }
   },
   "source": [
    "## Set logging level"
   ]
  },
  {
   "cell_type": "code",
   "execution_count": 6,
   "id": "ca79237f-8452-4afc-887b-bf91d9740b00",
   "metadata": {
    "pycharm": {
     "name": "#%%\n"
    }
   },
   "outputs": [],
   "source": [
    "logging.basicConfig(stream=sys.stdout, level=logging.INFO)\n",
    "logging.getLogger(\"ppqm\").setLevel(logging.INFO)\n",
    "logging.getLogger(\"orca\").setLevel(logging.DEBUG)\n",
    "show_progress = True"
   ]
  },
  {
   "cell_type": "code",
   "execution_count": 7,
   "id": "2318ca75-e093-42a7-8966-f7e88b6e02d3",
   "metadata": {
    "pycharm": {
     "name": "#%%\n"
    }
   },
   "outputs": [],
   "source": [
    "_logger = logging.getLogger(__name__)"
   ]
  },
  {
   "cell_type": "markdown",
   "id": "78ce2c47-a6aa-4edd-872f-0ff213335180",
   "metadata": {
    "pycharm": {
     "name": "#%% md\n"
    }
   },
   "source": [
    "## Define a molecule you like"
   ]
  },
  {
   "cell_type": "code",
   "execution_count": 8,
   "id": "da1bea1b-ad8a-4906-a05f-741ba3fe74ee",
   "metadata": {
    "pycharm": {
     "name": "#%%\n"
    }
   },
   "outputs": [],
   "source": [
    "smiles = \"C([C@@H](C(=O)O)N)O\"  # I like serine\n",
    "molobj = Chem.MolFromSmiles(smiles)"
   ]
  },
  {
   "cell_type": "code",
   "execution_count": 9,
   "id": "84657c09-f9f5-48e0-b480-d2aea94261e6",
   "metadata": {
    "pycharm": {
     "name": "#%%\n"
    }
   },
   "outputs": [
    {
     "data": {
      "image/png": "[encoded data removed]",
      "text/plain": [
       "<rdkit.Chem.rdchem.Mol at 0x7fc9f98f9dc0>"
      ]
     },
     "execution_count": 9,
     "metadata": {},
     "output_type": "execute_result"
    }
   ],
   "source": [
    "molobj"
   ]
  },
  {
   "cell_type": "markdown",
   "id": "3b2eb377-51b4-44a0-baf5-cbb20e0601fa",
   "metadata": {
    "pycharm": {
     "name": "#%% md\n"
    }
   },
   "source": [
    "## Define an Orca calculator object"
   ]
  },
  {
   "cell_type": "code",
   "execution_count": 10,
   "id": "c9d9ac7f-dfe7-4090-94eb-08aa861baea7",
   "metadata": {
    "pycharm": {
     "name": "#%%\n"
    }
   },
   "outputs": [],
   "source": [
    "orca_options = {\n",
    "    \"scr\": \"./_tmp_directory_\",  # Where should the calculations happen?\n",
    "    \"cmd\": \"orca\",  # Where is the binary executable/command?\n",
    "    \"n_cores\": 8,  # How many cores to use?\n",
    "    \"show_progress\": True,  # Show progressbar during calculation\n",
    "}"
   ]
  },
  {
   "cell_type": "code",
   "execution_count": 11,
   "id": "04eef2ef-864e-4858-88ed-34078aa9bca4",
   "metadata": {
    "pycharm": {
     "name": "#%%\n"
    }
   },
   "outputs": [
    {
     "data": {
      "text/plain": [
       "OrcaCalc(cmd=/home/cloudlab/Library/orca/5.0.3-serial/orca, scr=_tmp_directory_, n_cores=8, memory=2gb)"
      ]
     },
     "execution_count": 11,
     "metadata": {},
     "output_type": "execute_result"
    }
   ],
   "source": [
    "calc = orca.OrcaCalculator(**orca_options)\n",
    "calc"
   ]
  },
  {
   "cell_type": "markdown",
   "id": "a987c1be-1e17-4a48-8627-b782f31a54bb",
   "metadata": {
    "pycharm": {
     "name": "#%% md\n"
    }
   },
   "source": [
    "## Define what you would like to calculate"
   ]
  },
  {
   "cell_type": "code",
   "execution_count": 12,
   "id": "436752a6-0140-4394-b680-482e286c067e",
   "metadata": {
    "pycharm": {
     "name": "#%%\n"
    }
   },
   "outputs": [],
   "source": [
    "# Calculate values for molecule in water\n",
    "calculation_option = {\n",
    "    \"NumFreq\": None,\n",
    "    \"B3LYP\": None,\n",
    "    \"def2-SVP\": None,\n",
    "    \"D3BJ\": None,\n",
    "    \"Hirshfeld\": None,\n",
    "    \"CPCM\": \"water\",\n",
    "    \"RIJCOSX\": None,\n",
    "    \"def2/J\": None,\n",
    "    \"Grid4\": None,\n",
    "    \"GridX4\": None,\n",
    "    \"NMR\": None,\n",
    "    \"def2/JK\": None\n",
    "}"
   ]
  },
  {
   "cell_type": "code",
   "execution_count": 13,
   "id": "3954ad95-fa2f-48a5-8b0d-3ee030d1fe9d",
   "metadata": {
    "pycharm": {
     "name": "#%%\n"
    }
   },
   "outputs": [],
   "source": [
    "# Generate conformers\n",
    "molobj_conf = ppqm.tasks.generate_conformers(molobj, max_conformers=3)"
   ]
  },
  {
   "cell_type": "code",
   "execution_count": 14,
   "id": "49ed0ca9-8e94-4081-a6c8-ef652a0bf366",
   "metadata": {
    "pycharm": {
     "name": "#%%\n"
    }
   },
   "outputs": [
    {
     "data": {
      "text/plain": [
       "3"
      ]
     },
     "execution_count": 14,
     "metadata": {},
     "output_type": "execute_result"
    }
   ],
   "source": [
    "molobj_conf.GetNumConformers()"
   ]
  },
  {
   "cell_type": "code",
   "execution_count": 15,
   "id": "a2810654-fb6c-4cde-a7ee-4ebf8aea1c2e",
   "metadata": {
    "pycharm": {
     "name": "#%%\n"
    }
   },
   "outputs": [
    {
     "name": "stdout",
     "output_type": "stream",
     "text": [
      "DEBUG:orca:start orca multiprocessing pool\n",
      "INFO:orca:Using 2 core(s) per conformer\n",
      "INFO:orca:3 conformer(s) in total on 6 cores\n",
      "ORCA(3):   0%|                                            | 0/3 [00:00<?, ?it/s]DEBUG:orca:/home/cloudlab/Library/orca/5.0.3-serial/orca _tmp_orca_input.inp\n",
      "DEBUG:orca:/home/cloudlab/Library/orca/5.0.3-serial/orca _tmp_orca_input.inp\n",
      "DEBUG:orca:/home/cloudlab/Library/orca/5.0.3-serial/orca _tmp_orca_input.inp\n",
      "ERROR:orca:Abnormal termination of Orca\n",
      "ERROR:orca:orca: INPUT ERROR\n",
      "ERROR:orca:orca: UNRECOGNIZED OR DUPLICATED KEYWORD(S) IN SIMPLE INPUT LINE\n",
      "ERROR:orca:orca: GRID4 GRIDX4\n",
      "ERROR:orca:Abnormal termination of Orca\n",
      "ORCA(3):  33%|████████████                        | 1/3 [00:00<00:00,  7.99it/s]ERROR:orca:orca: INPUT ERROR\n",
      "ERROR:orca:orca: UNRECOGNIZED OR DUPLICATED KEYWORD(S) IN SIMPLE INPUT LINE\n",
      "ERROR:orca:orca: GRID4 GRIDX4\n",
      "ERROR:orca:Abnormal termination of Orca\n",
      "ERROR:orca:orca: INPUT ERROR\n",
      "ERROR:orca:orca: UNRECOGNIZED OR DUPLICATED KEYWORD(S) IN SIMPLE INPUT LINE\n",
      "ERROR:orca:orca: GRID4 GRIDX4\n",
      "ORCA(3): 100%|████████████████████████████████████| 3/3 [00:00<00:00, 18.84it/s]\n"
     ]
    }
   ],
   "source": [
    "# Calculate energy of conformers\n",
    "results = calc.calculate(molobj_conf, calculation_option)"
   ]
  },
  {
   "cell_type": "code",
   "execution_count": null,
   "id": "4f5095d7",
   "metadata": {
    "pycharm": {
     "name": "#%%\n"
    }
   },
   "outputs": [],
   "source": [
    "# The output type\n",
    "print(type(results))\n",
    "print(type(results[0]))\n",
    "print(results[0].keys())"
   ]
  },
  {
   "cell_type": "code",
   "execution_count": null,
   "id": "5fdd0d37",
   "metadata": {
    "pycharm": {
     "name": "#%%\n"
    }
   },
   "outputs": [],
   "source": [
    "# Collect all the orca energies\n",
    "conformer_energies = [result[\"scf_energy\"] for result in results]"
   ]
  },
  {
   "cell_type": "code",
   "execution_count": null,
   "id": "b9fb4b85",
   "metadata": {
    "pycharm": {
     "name": "#%%\n"
    }
   },
   "outputs": [],
   "source": [
    "# Find the lowest energy\n",
    "idx = np.argmin(conformer_energies)\n",
    "idx"
   ]
  },
  {
   "cell_type": "markdown",
   "id": "54114137-47a3-4daf-8733-0f50c2b6e917",
   "metadata": {
    "pycharm": {
     "name": "#%% md\n"
    }
   },
   "source": [
    "## Transfer the results into a Pandas dataframe"
   ]
  },
  {
   "cell_type": "code",
   "execution_count": null,
   "id": "90b56011-5e92-4762-aed0-ebce046b405d",
   "metadata": {
    "pycharm": {
     "name": "#%%\n"
    }
   },
   "outputs": [],
   "source": [
    "df = pd.DataFrame(results)\n",
    "df"
   ]
  },
  {
   "cell_type": "code",
   "execution_count": null,
   "id": "2b8bdbfb",
   "metadata": {
    "pycharm": {
     "name": "#%%\n"
    }
   },
   "outputs": [],
   "source": [
    "# get coordinates for lowest energy conformer\n",
    "coord = results[idx][\"coord\"]"
   ]
  },
  {
   "cell_type": "code",
   "execution_count": null,
   "id": "e54a8541",
   "metadata": {
    "pycharm": {
     "name": "#%%\n"
    }
   },
   "outputs": [],
   "source": [
    "# get mulliken charges for lowest energy conformer\n",
    "mulliken = results[idx][\"mulliken_charges\"]\n",
    "mulliken"
   ]
  },
  {
   "cell_type": "code",
   "execution_count": null,
   "id": "e60aa4f3",
   "metadata": {
    "pycharm": {
     "name": "#%%\n"
    }
   },
   "outputs": [],
   "source": [
    "# Copy only the graph of the molecule, keeping the atom order\n",
    "molobj_prime = ppqm.chembridge.copy_molobj(molobj_conf)\n",
    "\n",
    "# Get the coordinates of the best conformer\n",
    "coord = results[idx][\"coord\"]\n",
    "\n",
    "# Add conformer to molobj\n",
    "ppqm.chembridge.molobj_add_conformer(molobj_prime, coord)"
   ]
  },
  {
   "cell_type": "code",
   "execution_count": null,
   "id": "ff55b33a",
   "metadata": {
    "pycharm": {
     "name": "#%%\n"
    }
   },
   "outputs": [],
   "source": [
    "ppqm_jupyter.show_molobj(molobj_prime)"
   ]
  },
  {
   "cell_type": "code",
   "execution_count": null,
   "id": "d0b95fe7",
   "metadata": {
    "pycharm": {
     "name": "#%%\n"
    }
   },
   "outputs": [],
   "source": [
    "for coef, atom in zip(mulliken, molobj_prime.GetAtoms()):\n",
    "    label = f\"{coef:.2f}\"\n",
    "    atom.SetProp(\"atomNote\", label)"
   ]
  },
  {
   "cell_type": "code",
   "execution_count": null,
   "id": "13cd2371",
   "metadata": {
    "pycharm": {
     "name": "#%%\n"
    }
   },
   "outputs": [],
   "source": [
    "MolToImage(\n",
    "    Chem.RemoveHs(molobj_prime),\n",
    "    size=(300, 300),\n",
    ")"
   ]
  }
 ],
 "metadata": {
  "kernelspec": {
   "display_name": "Python 3 (ipykernel)",
   "language": "python",
   "name": "python3"
  },
  "language_info": {
   "codemirror_mode": {
    "name": "ipython",
    "version": 3
   },
   "file_extension": ".py",
   "mimetype": "text/x-python",
   "name": "python",
   "nbconvert_exporter": "python",
   "pygments_lexer": "ipython3",
   "version": "3.9.13"
  }
 },
 "nbformat": 4,
 "nbformat_minor": 5
}