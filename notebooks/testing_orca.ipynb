{
 "cells": [
  {
   "cell_type": "markdown",
   "id": "6d689750-ee7d-4a7e-b602-30c71d695342",
   "metadata": {
    "pycharm": {
     "name": "#%% md\n"
    }
   },
   "source": [
    "# Example of how to use the Orca wrapper\n"
   ]
  },
  {
   "cell_type": "code",
   "execution_count": 1,
   "id": "325db504-b421-44c7-84b4-a9f16e140170",
   "metadata": {
    "pycharm": {
     "name": "#%%\n"
    }
   },
   "outputs": [],
   "source": [
    "%load_ext autoreload\n",
    "%autoreload 2\n",
    "%matplotlib inline"
   ]
  },
  {
   "cell_type": "code",
   "execution_count": 2,
   "id": "9777df55-6093-43e0-abf6-b0e3f34a6881",
   "metadata": {
    "pycharm": {
     "name": "#%%\n"
    }
   },
   "outputs": [],
   "source": [
    "import sys\n",
    "import logging"
   ]
  },
  {
   "cell_type": "code",
   "execution_count": 3,
   "id": "a6409369-cfc7-49de-b6e2-405a0e02a082",
   "metadata": {
    "pycharm": {
     "name": "#%%\n"
    }
   },
   "outputs": [],
   "source": [
    "import matplotlib.pyplot as plt\n",
    "import numpy as np\n",
    "import pandas as pd\n",
    "from rdkit import Chem\n",
    "from rdkit.Chem import AllChem\n",
    "from rdkit.Chem.Draw import MolsToGridImage, MolToImage\n",
    "from rdkit.Chem.MolStandardize import rdMolStandardize"
   ]
  },
  {
   "cell_type": "code",
   "execution_count": 4,
   "id": "2b8278dd-17e2-4482-9513-2f1f6c84f006",
   "metadata": {
    "pycharm": {
     "name": "#%%\n"
    }
   },
   "outputs": [],
   "source": [
    "try:\n",
    "    import ppqm\n",
    "except ModuleNotFoundError:\n",
    "    import pathlib\n",
    "\n",
    "    cwd = pathlib.Path().resolve().parent\n",
    "    sys.path.append(str(cwd))\n",
    "    import ppqm"
   ]
  },
  {
   "cell_type": "code",
   "execution_count": 5,
   "id": "0e55deee-5f00-444a-a097-2082cbb25614",
   "metadata": {
    "pycharm": {
     "name": "#%%\n"
    }
   },
   "outputs": [
    {
     "data": {
      "text/plain": "",
      "application/vnd.jupyter.widget-view+json": {
       "version_major": 2,
       "version_minor": 0,
       "model_id": "0b26328383c24c00930337afe0936d2a"
      }
     },
     "metadata": {},
     "output_type": "display_data"
    }
   ],
   "source": [
    "from ppqm import orca\n",
    "from ppqm import jupyter as ppqm_jupyter"
   ]
  },
  {
   "cell_type": "markdown",
   "source": [
    "Check that the correct orca executable is available in the environment"
   ],
   "metadata": {
    "collapsed": false,
    "pycharm": {
     "name": "#%% md\n"
    }
   }
  },
  {
   "cell_type": "code",
   "execution_count": 6,
   "outputs": [
    {
     "name": "stdout",
     "output_type": "stream",
     "text": [
      "/home/cloudlab/Library/orca/4.2.1-static_ompi-3.1.4/orca\r\n",
      "# conda environments:\r\n",
      "#\r\n",
      "base                     /home/cloudlab/Library/miniconda3\r\n",
      "default                  /home/cloudlab/Library/miniconda3/envs/default\r\n",
      "ppqm                     /home/cloudlab/Library/miniconda3/envs/ppqm\r\n",
      "research                 /home/cloudlab/Library/miniconda3/envs/research\r\n",
      "                         /home/cloudlab/Repositories/apps/molcalc/env\r\n",
      "                         /home/cloudlab/Repositories/python/molcalc/env\r\n",
      "                      *  /home/cloudlab/Repositories/python/ppqm/env\r\n",
      "                         /home/cloudlab/Repositories/python/tutorials/gtc2020-numba/env\r\n",
      "\r\n"
     ]
    }
   ],
   "source": [
    "!which orca\n",
    "!conda env list"
   ],
   "metadata": {
    "collapsed": false,
    "pycharm": {
     "name": "#%%\n"
    }
   }
  },
  {
   "cell_type": "markdown",
   "id": "122978f4-e70b-4ada-9a02-c07e696733e3",
   "metadata": {
    "pycharm": {
     "name": "#%% md\n"
    }
   },
   "source": [
    "## Set logging level"
   ]
  },
  {
   "cell_type": "code",
   "execution_count": 7,
   "id": "ca79237f-8452-4afc-887b-bf91d9740b00",
   "metadata": {
    "pycharm": {
     "name": "#%%\n"
    }
   },
   "outputs": [],
   "source": [
    "logging.basicConfig(stream=sys.stdout, level=logging.INFO)\n",
    "logging.getLogger(\"ppqm\").setLevel(logging.INFO)\n",
    "logging.getLogger(\"orca\").setLevel(logging.DEBUG)\n",
    "show_progress = True"
   ]
  },
  {
   "cell_type": "code",
   "execution_count": 8,
   "id": "2318ca75-e093-42a7-8966-f7e88b6e02d3",
   "metadata": {
    "pycharm": {
     "name": "#%%\n"
    }
   },
   "outputs": [],
   "source": [
    "_logger = logging.getLogger(__name__)"
   ]
  },
  {
   "cell_type": "markdown",
   "id": "78ce2c47-a6aa-4edd-872f-0ff213335180",
   "metadata": {
    "pycharm": {
     "name": "#%% md\n"
    }
   },
   "source": [
    "## Define a molecule you like"
   ]
  },
  {
   "cell_type": "markdown",
   "source": [
    "### Methane"
   ],
   "metadata": {
    "collapsed": false,
    "pycharm": {
     "name": "#%% md\n"
    }
   }
  },
  {
   "cell_type": "code",
   "execution_count": 9,
   "outputs": [],
   "source": [
    "smiles = \"C\"\n",
    "molobj = Chem.MolFromSmiles(smiles)"
   ],
   "metadata": {
    "collapsed": false,
    "pycharm": {
     "name": "#%%\n"
    }
   }
  },
  {
   "cell_type": "code",
   "execution_count": 10,
   "outputs": [
    {
     "data": {
      "text/plain": "<rdkit.Chem.rdchem.Mol at 0x7f8459d45880>",
      "image/png": "[encoded data removed]"
     },
     "execution_count": 10,
     "metadata": {},
     "output_type": "execute_result"
    }
   ],
   "source": [
    "molobj"
   ],
   "metadata": {
    "collapsed": false,
    "pycharm": {
     "name": "#%%\n"
    }
   }
  },
  {
   "cell_type": "markdown",
   "id": "3b2eb377-51b4-44a0-baf5-cbb20e0601fa",
   "metadata": {
    "pycharm": {
     "name": "#%% md\n"
    }
   },
   "source": [
    "## Define an Orca calculator object"
   ]
  },
  {
   "cell_type": "code",
   "execution_count": 11,
   "id": "c9d9ac7f-dfe7-4090-94eb-08aa861baea7",
   "metadata": {
    "pycharm": {
     "name": "#%%\n"
    }
   },
   "outputs": [],
   "source": [
    "orca_options = {\n",
    "    \"scr\": \"./_tmp_directory_\",  # Where should the calculations happen?\n",
    "    \"cmd\": \"orca\",  # Where is the binary executable/command?\n",
    "    \"n_cores\": 2,  # How many cores to use?\n",
    "    \"show_progress\": True,  # Show progressbar during calculation\n",
    "}"
   ]
  },
  {
   "cell_type": "code",
   "execution_count": 12,
   "id": "04eef2ef-864e-4858-88ed-34078aa9bca4",
   "metadata": {
    "pycharm": {
     "name": "#%%\n"
    }
   },
   "outputs": [
    {
     "data": {
      "text/plain": "OrcaCalc(cmd=/home/cloudlab/Library/orca/4.2.1-static_ompi-3.1.4/orca, scr=_tmp_directory_, n_cores=2, memory=2gb)"
     },
     "execution_count": 12,
     "metadata": {},
     "output_type": "execute_result"
    }
   ],
   "source": [
    "calc = orca.OrcaCalculator(**orca_options)\n",
    "calc"
   ]
  },
  {
   "cell_type": "markdown",
   "source": [
    "## Define what you would like to calculate"
   ],
   "metadata": {
    "collapsed": false,
    "pycharm": {
     "name": "#%% md\n"
    }
   }
  },
  {
   "cell_type": "markdown",
   "source": [
    "### Simple calculation on methane using semi-empirical method (PM3)"
   ],
   "metadata": {
    "collapsed": false,
    "pycharm": {
     "name": "#%% md\n"
    }
   }
  },
  {
   "cell_type": "code",
   "execution_count": 18,
   "outputs": [],
   "source": [
    "# Calculate values for molecule in water\n",
    "calculation_option = {\n",
    "    'NumFreq': None     # Compute numerical (vibrational) frequencies\n",
    "}"
   ],
   "metadata": {
    "collapsed": false,
    "pycharm": {
     "name": "#%%\n"
    }
   }
  },
  {
   "cell_type": "code",
   "execution_count": 19,
   "outputs": [],
   "source": [
    "# Generate conformers\n",
    "molobj_conf = ppqm.tasks.generate_conformers(molobj, max_conformers=3)"
   ],
   "metadata": {
    "collapsed": false,
    "pycharm": {
     "name": "#%%\n"
    }
   }
  },
  {
   "cell_type": "code",
   "execution_count": 20,
   "outputs": [
    {
     "data": {
      "text/plain": "1"
     },
     "execution_count": 20,
     "metadata": {},
     "output_type": "execute_result"
    }
   ],
   "source": [
    "molobj_conf.GetNumConformers()"
   ],
   "metadata": {
    "collapsed": false,
    "pycharm": {
     "name": "#%%\n"
    }
   }
  },
  {
   "cell_type": "code",
   "execution_count": 21,
   "outputs": [
    {
     "name": "stdout",
     "output_type": "stream",
     "text": [
      "DEBUG:orca:start orca multiprocessing pool\n",
      "INFO:orca:Using 2 core(s) per conformer\n",
      "INFO:orca:1 conformer(s) in total on 2 cores\n",
      "ORCA(1):   0%|                                            | 0/1 [00:00<?, ?it/s]DEBUG:orca:/home/cloudlab/Library/orca/4.2.1-static_ompi-3.1.4/orca _tmp_orca_input.inp\n",
      "ORCA(1): 100%|████████████████████████████████████| 1/1 [00:44<00:00, 44.15s/it]\n"
     ]
    }
   ],
   "source": [
    "# Calculate energy of conformers\n",
    "results = calc.calculate(molobj_conf, calculation_option)"
   ],
   "metadata": {
    "collapsed": false,
    "pycharm": {
     "name": "#%%\n"
    }
   }
  },
  {
   "cell_type": "code",
   "execution_count": 22,
   "outputs": [
    {
     "name": "stdout",
     "output_type": "stream",
     "text": [
      "<class 'list'>\n",
      "<class 'dict'>\n",
      "dict_keys(['scf_energy', 'vibrational_frequencies', 'gibbs_free_energy', 'enthalpy', 'entropy', 'mulliken_charges', 'loewdin_charges', 'stationary_points', 'scf_converged', 'coord'])\n"
     ]
    }
   ],
   "source": [
    "# The output type\n",
    "print(type(results))\n",
    "print(type(results[0]))\n",
    "print(results[0].keys())"
   ],
   "metadata": {
    "collapsed": false,
    "pycharm": {
     "name": "#%%\n"
    }
   }
  },
  {
   "cell_type": "code",
   "execution_count": 23,
   "outputs": [
    {
     "data": {
      "text/plain": "[-25205.32560044033]"
     },
     "execution_count": 23,
     "metadata": {},
     "output_type": "execute_result"
    }
   ],
   "source": [
    "# Collect all the orca energies\n",
    "conformer_energies = [result[\"scf_energy\"] for result in results]\n",
    "conformer_energies"
   ],
   "metadata": {
    "collapsed": false,
    "pycharm": {
     "name": "#%%\n"
    }
   }
  },
  {
   "cell_type": "code",
   "execution_count": 24,
   "outputs": [
    {
     "data": {
      "text/plain": "0"
     },
     "execution_count": 24,
     "metadata": {},
     "output_type": "execute_result"
    }
   ],
   "source": [
    "# Find the lowest energy\n",
    "idx = np.argmin(conformer_energies)\n",
    "idx"
   ],
   "metadata": {
    "collapsed": false,
    "pycharm": {
     "name": "#%%\n"
    }
   }
  },
  {
   "cell_type": "markdown",
   "source": [
    "### More complicated calculations on methane"
   ],
   "metadata": {
    "collapsed": false,
    "pycharm": {
     "name": "#%% md\n"
    }
   }
  },
  {
   "cell_type": "markdown",
   "id": "a987c1be-1e17-4a48-8627-b782f31a54bb",
   "metadata": {
    "pycharm": {
     "name": "#%% md\n"
    }
   },
   "source": [
    "#### Overview of selected Orca input file settings\n",
    "\n",
    "**NumFreq**\n",
    "  * Calculate vibrational modes using numerical calculation of Hessian\n",
    "\n",
    "**B3LYP**\n",
    "\n",
    "**def2-SVP**\n",
    "  * An Ahlrichs def2 family double-zeta basis set\n",
    "  * Recommended for DFT calculations on light main-group elements and 1st row TM elements (H-Kr)\n",
    "  * Useful for initial geometry optimizations\n",
    "  * Decent structures for organic/maingroup chemistry, but energies/properties shouldn't be trusted (with such small basis sets)\n",
    "\n",
    "**D3BJ**\n",
    "  * Add Grimme’s DFT-D3(BJ) dispersion correction method to DFT calc (free of charge)\n",
    "\n",
    "**RIJCOSX**\n",
    "  * Uses the RI-J approximation for Coulomb integrals (J)\n",
    "  * Uses COSX numerical integration for HF exchange\n",
    "\n",
    "**def2/J**\n",
    "  * Weigend J auxiliary basis set (recommended in ORCA4)\n",
    "\n",
    "**Grid4 and GridX4**\n",
    "  * ORCA4-related DFT grid settings (supposedly better than default)\n",
    "  * DFT grid stuff has been completely reworked in ORCA5 so these keywords won't work\n",
    "\n",
    "**NMR**\n",
    "  * Predict NMR spectra\n",
    "  * Results are very conformer-dependent\n",
    "  * Just typing NMR on 1st line w/o specifying the nuclei below will calc shieldings for all atoms\n",
    "  * Specific atoms can be listed under the %EPRNMR block (should always come after the geometry section)\n",
    "  * To request the NMR shieldings, just add {SHIFT} after the atom assignments\n",
    "\n",
    "**def2/JK**\n",
    "  * RI-JK approximation for Coulomb and HF Exchange for HF and hybrid-DFT methods (and for HF step in post-HF)"
   ]
  },
  {
   "cell_type": "code",
   "execution_count": 17,
   "outputs": [],
   "source": [
    "# Calculate values for molecule in water\n",
    "calculation_option = {\n",
    "    \"NumFreq\": None,    # Compute numerical (vibrational) frequencies\n",
    "    \"B3LYP\": None,      #\n",
    "    \"def2-SVP\": None,\n",
    "    \"D3BJ\": None,\n",
    "    \"Hirshfeld\": None,\n",
    "    \"RIJCOSX\": None,    # Resolution of Identity (RI) method for faster calc\n",
    "    \"def2/J\": None,\n",
    "    \"Grid4\": None,\n",
    "    \"GridX4\": None,\n",
    "    \"NMR\": None,\n",
    "    \"def2/JK\": None\n",
    "}"
   ],
   "metadata": {
    "collapsed": false,
    "pycharm": {
     "name": "#%%\n"
    }
   }
  },
  {
   "cell_type": "code",
   "execution_count": 18,
   "id": "3954ad95-fa2f-48a5-8b0d-3ee030d1fe9d",
   "metadata": {
    "pycharm": {
     "name": "#%%\n"
    }
   },
   "outputs": [],
   "source": [
    "# Generate conformers\n",
    "molobj_conf = ppqm.tasks.generate_conformers(molobj, max_conformers=3)"
   ]
  },
  {
   "cell_type": "code",
   "execution_count": 19,
   "id": "49ed0ca9-8e94-4081-a6c8-ef652a0bf366",
   "metadata": {
    "pycharm": {
     "name": "#%%\n"
    }
   },
   "outputs": [
    {
     "data": {
      "text/plain": "1"
     },
     "execution_count": 19,
     "metadata": {},
     "output_type": "execute_result"
    }
   ],
   "source": [
    "molobj_conf.GetNumConformers()"
   ]
  },
  {
   "cell_type": "code",
   "execution_count": 20,
   "id": "a2810654-fb6c-4cde-a7ee-4ebf8aea1c2e",
   "metadata": {
    "pycharm": {
     "name": "#%%\n"
    }
   },
   "outputs": [
    {
     "name": "stdout",
     "output_type": "stream",
     "text": [
      "ORCA(1): 100%|████████████████████████████████████| 1/1 [01:26<00:00, 86.26s/it]\n"
     ]
    }
   ],
   "source": [
    "# Calculate energy of conformers\n",
    "results = calc.calculate(molobj_conf, calculation_option)"
   ]
  },
  {
   "cell_type": "code",
   "execution_count": 21,
   "id": "4f5095d7",
   "metadata": {
    "pycharm": {
     "name": "#%%\n"
    }
   },
   "outputs": [
    {
     "name": "stdout",
     "output_type": "stream",
     "text": [
      "<class 'list'>\n",
      "<class 'dict'>\n",
      "dict_keys(['scf_energy', 'hirshfeld_charges', 'shielding_constants', 'vibrational_frequencies', 'gibbs_free_energy', 'enthalpy', 'entropy', 'mulliken_charges', 'loewdin_charges', 'stationary_points', 'scf_converged', 'coord'])\n"
     ]
    }
   ],
   "source": [
    "# The output type\n",
    "print(type(results))\n",
    "print(type(results[0]))\n",
    "print(results[0].keys())"
   ]
  },
  {
   "cell_type": "code",
   "execution_count": 23,
   "id": "5fdd0d37",
   "metadata": {
    "pycharm": {
     "name": "#%%\n"
    }
   },
   "outputs": [
    {
     "data": {
      "text/plain": "[-25384.574309672127]"
     },
     "execution_count": 23,
     "metadata": {},
     "output_type": "execute_result"
    }
   ],
   "source": [
    "# Collect all the orca energies\n",
    "conformer_energies = [result[\"scf_energy\"] for result in results]\n",
    "conformer_energies"
   ]
  },
  {
   "cell_type": "code",
   "execution_count": 24,
   "id": "b9fb4b85",
   "metadata": {
    "pycharm": {
     "name": "#%%\n"
    }
   },
   "outputs": [
    {
     "data": {
      "text/plain": "0"
     },
     "execution_count": 24,
     "metadata": {},
     "output_type": "execute_result"
    }
   ],
   "source": [
    "# Find the lowest energy\n",
    "idx = np.argmin(conformer_energies)\n",
    "idx"
   ]
  },
  {
   "cell_type": "markdown",
   "id": "54114137-47a3-4daf-8733-0f50c2b6e917",
   "metadata": {
    "pycharm": {
     "name": "#%% md\n"
    }
   },
   "source": [
    "## Transfer the results into a Pandas dataframe"
   ]
  },
  {
   "cell_type": "code",
   "execution_count": 25,
   "id": "90b56011-5e92-4762-aed0-ebce046b405d",
   "metadata": {
    "pycharm": {
     "name": "#%%\n"
    }
   },
   "outputs": [
    {
     "data": {
      "text/plain": "    scf_energy                                  hirshfeld_charges  \\\n0 -25384.57431  [-0.103152, 0.026486, 0.026932, 0.02269, 0.027...   \n\n                         shielding_constants  \\\n0  [190.453, 30.544, 30.673, 30.947, 30.614]   \n\n                             vibrational_frequencies  gibbs_free_energy  \\\n0  [0.0, 0.0, 0.0, 0.0, 0.0, 0.0, 1318.31, 1340.3...      -25369.624741   \n\n       enthalpy   entropy                                   mulliken_charges  \\\n0 -25354.857115  14.76762  [-0.129302, 0.034204, 0.034221, 0.026239, 0.03...   \n\n                                     loewdin_charges stationary_points  \\\n0  [-0.114802, 0.029961, 0.028869, 0.026606, 0.02...     local_minimum   \n\n   scf_converged                                              coord  \n0           True  [[0.0009055188548726867, 0.004071740571642823,...  ",
      "text/html": "<div>\n<style scoped>\n    .dataframe tbody tr th:only-of-type {\n        vertical-align: middle;\n    }\n\n    .dataframe tbody tr th {\n        vertical-align: top;\n    }\n\n    .dataframe thead th {\n        text-align: right;\n    }\n</style>\n<table border=\"1\" class=\"dataframe\">\n  <thead>\n    <tr style=\"text-align: right;\">\n      <th></th>\n      <th>scf_energy</th>\n      <th>hirshfeld_charges</th>\n      <th>shielding_constants</th>\n      <th>vibrational_frequencies</th>\n      <th>gibbs_free_energy</th>\n      <th>enthalpy</th>\n      <th>entropy</th>\n      <th>mulliken_charges</th>\n      <th>loewdin_charges</th>\n      <th>stationary_points</th>\n      <th>scf_converged</th>\n      <th>coord</th>\n    </tr>\n  </thead>\n  <tbody>\n    <tr>\n      <th>0</th>\n      <td>-25384.57431</td>\n      <td>[-0.103152, 0.026486, 0.026932, 0.02269, 0.027...</td>\n      <td>[190.453, 30.544, 30.673, 30.947, 30.614]</td>\n      <td>[0.0, 0.0, 0.0, 0.0, 0.0, 0.0, 1318.31, 1340.3...</td>\n      <td>-25369.624741</td>\n      <td>-25354.857115</td>\n      <td>14.76762</td>\n      <td>[-0.129302, 0.034204, 0.034221, 0.026239, 0.03...</td>\n      <td>[-0.114802, 0.029961, 0.028869, 0.026606, 0.02...</td>\n      <td>local_minimum</td>\n      <td>True</td>\n      <td>[[0.0009055188548726867, 0.004071740571642823,...</td>\n    </tr>\n  </tbody>\n</table>\n</div>"
     },
     "execution_count": 25,
     "metadata": {},
     "output_type": "execute_result"
    }
   ],
   "source": [
    "df = pd.DataFrame(results)\n",
    "df"
   ]
  },
  {
   "cell_type": "code",
   "execution_count": null,
   "id": "2b8bdbfb",
   "metadata": {
    "pycharm": {
     "name": "#%%\n"
    }
   },
   "outputs": [],
   "source": [
    "# get coordinates for lowest energy conformer\n",
    "coord = results[idx][\"coord\"]"
   ]
  },
  {
   "cell_type": "code",
   "execution_count": null,
   "id": "e54a8541",
   "metadata": {
    "pycharm": {
     "name": "#%%\n"
    }
   },
   "outputs": [],
   "source": [
    "# get mulliken charges for lowest energy conformer\n",
    "mulliken = results[idx][\"mulliken_charges\"]\n",
    "mulliken"
   ]
  },
  {
   "cell_type": "code",
   "execution_count": null,
   "id": "e60aa4f3",
   "metadata": {
    "pycharm": {
     "name": "#%%\n"
    }
   },
   "outputs": [],
   "source": [
    "# Copy only the graph of the molecule, keeping the atom order\n",
    "molobj_prime = ppqm.chembridge.copy_molobj(molobj_conf)\n",
    "\n",
    "# Get the coordinates of the best conformer\n",
    "coord = results[idx][\"coord\"]\n",
    "\n",
    "# Add conformer to molobj\n",
    "ppqm.chembridge.molobj_add_conformer(molobj_prime, coord)"
   ]
  },
  {
   "cell_type": "code",
   "execution_count": null,
   "id": "ff55b33a",
   "metadata": {
    "pycharm": {
     "name": "#%%\n"
    }
   },
   "outputs": [],
   "source": [
    "ppqm_jupyter.show_molobj(molobj_prime)"
   ]
  },
  {
   "cell_type": "code",
   "execution_count": null,
   "id": "d0b95fe7",
   "metadata": {
    "pycharm": {
     "name": "#%%\n"
    }
   },
   "outputs": [],
   "source": [
    "for coef, atom in zip(mulliken, molobj_prime.GetAtoms()):\n",
    "    label = f\"{coef:.2f}\"\n",
    "    atom.SetProp(\"atomNote\", label)"
   ]
  },
  {
   "cell_type": "code",
   "execution_count": null,
   "id": "13cd2371",
   "metadata": {
    "pycharm": {
     "name": "#%%\n"
    }
   },
   "outputs": [],
   "source": [
    "MolToImage(\n",
    "    Chem.RemoveHs(molobj_prime),\n",
    "    size=(300, 300),\n",
    ")"
   ]
  }
 ],
 "metadata": {
  "kernelspec": {
   "display_name": "Python 3 (ipykernel)",
   "language": "python",
   "name": "python3"
  },
  "language_info": {
   "codemirror_mode": {
    "name": "ipython",
    "version": 3
   },
   "file_extension": ".py",
   "mimetype": "text/x-python",
   "name": "python",
   "nbconvert_exporter": "python",
   "pygments_lexer": "ipython3",
   "version": "3.9.13"
  }
 },
 "nbformat": 4,
 "nbformat_minor": 5
}